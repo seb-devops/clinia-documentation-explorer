{
 "cells": [
  {
   "cell_type": "markdown",
   "metadata": {},
   "source": [
    "# Clinia API Entities Agent Evaluation\n",
    "\n",
    "This notebook evaluates the performance of `clinia_api_entities_agent_ai.py`.\n",
    "\n",
    "It measures:\n",
    "1. Runtime for the agent run\n",
    "2. Total tokens consumed (prompt + completion)\n",
    "3. Accuracy of the generated entity map compared to the ground-truth `entities_map.json`"
   ]
  },
  {
   "cell_type": "code",
   "execution_count": 1,
   "id": "d46b0bfc",
   "metadata": {},
   "outputs": [],
   "source": [
    "# Imports and setup\n",
    "import asyncio\n",
    "import csv\n",
    "import json\n",
    "import os\n",
    "import sys\n",
    "import time\n",
    "from datetime import datetime\n",
    "from pathlib import Path\n",
    "\n",
    "import nest_asyncio\n",
    "\n",
    "from clinia_doc_agent import CliniaDocAgentsDeps, clinia_docs_agent, clinia_docs_agent_prompt\n",
    "from utils import get_clients\n",
    "\n",
    "# Permet d'imbriquer des boucles asyncio (nécessaire pour Jupyter)\n",
    "nest_asyncio.apply()\n",
    "\n",
    "repo_root = Path.cwd().parent\n",
    "sys.path.append(str(repo_root / 'src'))\n",
    "\n"
   ]
  },
  {
   "cell_type": "markdown",
   "id": "437f9d92",
   "metadata": {},
   "source": [
    "# Methods definition for evaluation\n"
   ]
  },
  {
   "cell_type": "code",
   "execution_count": 2,
   "id": "5aa0fe73",
   "metadata": {},
   "outputs": [],
   "source": [
    "def prepare_dependencies():\n",
    "    embedding_client, supabase = get_clients()\n",
    "    deps = CliniaDocAgentsDeps(supabase=supabase, embedding_client=embedding_client)\n",
    "    return deps"
   ]
  },
  {
   "cell_type": "markdown",
   "id": "ae7b4090",
   "metadata": {},
   "source": []
  },
  {
   "cell_type": "code",
   "execution_count": 3,
   "id": "495a34f8",
   "metadata": {},
   "outputs": [],
   "source": [
    "async def run_agent(query, deps):\n",
    "    start = time.perf_counter()\n",
    "    resp = await clinia_docs_agent.run(query, deps=deps)\n",
    "    runtime = time.perf_counter() - start\n",
    "    return resp, runtime\n",
    "\n",
    "# Version synchrone qui utilise nest_asyncio\n",
    "def run_agent_sync(query, deps):\n",
    "    return asyncio.run(run_agent(query, deps))"
   ]
  },
  {
   "cell_type": "code",
   "execution_count": 4,
   "id": "ee4d6672",
   "metadata": {},
   "outputs": [],
   "source": [
    "def append_results_to_csv(csv_path, row, header):\n",
    "    file_exists = os.path.isfile(csv_path)\n",
    "    with open(csv_path, 'a', newline='', encoding='utf-8') as csvfile:\n",
    "        writer = csv.writer(csvfile)\n",
    "        if not file_exists:\n",
    "            writer.writerow(header)\n",
    "        writer.writerow(row)"
   ]
  },
  {
   "cell_type": "markdown",
   "id": "0fb4e516",
   "metadata": {},
   "source": [
    "# Evaluation methods\n",
    "This method evaluates the accuracy of the agent by running the agent on a set of sample data. We are looking for keyword in the answer to validate that the agent is working correctly. "
   ]
  },
  {
   "cell_type": "code",
   "execution_count": 5,
   "id": "41dd4765",
   "metadata": {},
   "outputs": [],
   "source": [
    "# Nouvelle fonction pour évaluer l'agent avec les questions/réponses du sample_data.json\n",
    "\n",
    "def run_sample_data_evaluation(sample_path='../evals/data/sample_data.json', csv_path='results_sample_data.csv'):\n",
    "\n",
    "    eval_launch_time = datetime.now().strftime('%Y-%m-%d %H:%M:%S')\n",
    "    deps = prepare_dependencies()\n",
    "    with open(sample_path, 'r', encoding='utf-8') as f:\n",
    "        samples = json.load(f)\n",
    "    header = [\n",
    "        'eval_launch_time', 'question', 'expected_answer', 'agent_response', 'runtime_seconds', 'all_terms_found', 'missing_terms'\n",
    "    ]\n",
    "    for sample in samples:\n",
    "        question = sample['question']\n",
    "        expected_answer = sample['answer']\n",
    "        response, runtime_seconds = run_agent_sync(question, deps)\n",
    "        agent_output = response.data if hasattr(response, 'data') else str(response)\n",
    "        # Découper la réponse attendue en termes (par virgule)\n",
    "        terms = [t.strip().lower() for t in expected_answer.split(',')]\n",
    "        # Vérifier la présence de chaque terme dans la réponse de l'agent (insensible à la casse)\n",
    "        agent_output_lower = agent_output.lower()\n",
    "        missing_terms = [t for t in terms if t and t not in agent_output_lower]\n",
    "        all_terms_found = len(missing_terms) == 0\n",
    "        row = [\n",
    "            eval_launch_time,\n",
    "            question,\n",
    "            expected_answer,\n",
    "            agent_output,\n",
    "            f'{runtime_seconds:.2f}',\n",
    "            all_terms_found,\n",
    "            ';'.join(missing_terms)\n",
    "        ]\n",
    "        append_results_to_csv(csv_path, row, header)\n",
    "    print(f\"Évaluation terminée. Résultats enregistrés dans {csv_path}\")"
   ]
  },
  {
   "cell_type": "code",
   "execution_count": null,
   "id": "c93fa6c9",
   "metadata": {},
   "outputs": [],
   "source": [
    "# Lancer l'évaluation sur les données d'exemple et enregistrer les résultats\n",
    "run_sample_data_evaluation()"
   ]
  }
 ],
 "metadata": {
  "kernelspec": {
   "display_name": ".venv",
   "language": "python",
   "name": "python3"
  },
  "language_info": {
   "codemirror_mode": {
    "name": "ipython",
    "version": 3
   },
   "file_extension": ".py",
   "mimetype": "text/x-python",
   "name": "python",
   "nbconvert_exporter": "python",
   "pygments_lexer": "ipython3",
   "version": "3.12.3"
  }
 },
 "nbformat": 4,
 "nbformat_minor": 5
}
